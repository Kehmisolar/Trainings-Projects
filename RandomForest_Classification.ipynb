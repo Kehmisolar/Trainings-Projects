{
  "nbformat": 4,
  "nbformat_minor": 0,
  "metadata": {
    "colab": {
      "provenance": [],
      "authorship_tag": "ABX9TyP9T1XmRXtW+y3GGNeDF3te",
      "include_colab_link": true
    },
    "kernelspec": {
      "name": "python3",
      "display_name": "Python 3"
    },
    "language_info": {
      "name": "python"
    }
  },
  "cells": [
    {
      "cell_type": "markdown",
      "metadata": {
        "id": "view-in-github",
        "colab_type": "text"
      },
      "source": [
        "<a href=\"https://colab.research.google.com/github/Kehmisolar/Trainings-Projects/blob/main/RandomForest_Classification.ipynb\" target=\"_parent\"><img src=\"https://colab.research.google.com/assets/colab-badge.svg\" alt=\"Open In Colab\"/></a>"
      ]
    },
    {
      "cell_type": "markdown",
      "source": [
        "importing Libraries"
      ],
      "metadata": {
        "id": "Ns0M32DvBAbw"
      }
    },
    {
      "cell_type": "code",
      "execution_count": 9,
      "metadata": {
        "id": "ELK1MOchAwsq"
      },
      "outputs": [],
      "source": [
        "import numpy as np\n",
        "import matplotlib.pyplot as plt\n",
        "import pandas as pd\n"
      ]
    },
    {
      "cell_type": "markdown",
      "source": [
        "Dataset"
      ],
      "metadata": {
        "id": "j5ubg-QIBs9i"
      }
    },
    {
      "cell_type": "code",
      "source": [
        "dataset = pd.read_csv('/content/Social_Network_Ads.csv')\n",
        "x = dataset.iloc[:, :-1].values\n",
        "y = dataset.iloc[:, -1].values"
      ],
      "metadata": {
        "id": "1CwV5KRSBpOh"
      },
      "execution_count": 10,
      "outputs": []
    },
    {
      "cell_type": "code",
      "source": [
        "dataset"
      ],
      "metadata": {
        "colab": {
          "base_uri": "https://localhost:8080/",
          "height": 424
        },
        "id": "2BlRenTiY8dH",
        "outputId": "6f9ffa7e-67bb-45db-c3a7-1d7da22c9b8c"
      },
      "execution_count": 11,
      "outputs": [
        {
          "output_type": "execute_result",
          "data": {
            "text/plain": [
              "     Age  EstimatedSalary  Purchased\n",
              "0     19            19000          0\n",
              "1     35            20000          0\n",
              "2     26            43000          0\n",
              "3     27            57000          0\n",
              "4     19            76000          0\n",
              "..   ...              ...        ...\n",
              "395   46            41000          1\n",
              "396   51            23000          1\n",
              "397   50            20000          1\n",
              "398   36            33000          0\n",
              "399   49            36000          1\n",
              "\n",
              "[400 rows x 3 columns]"
            ],
            "text/html": [
              "\n",
              "  <div id=\"df-1e33419f-19ba-4dd4-8472-64162e40a548\">\n",
              "    <div class=\"colab-df-container\">\n",
              "      <div>\n",
              "<style scoped>\n",
              "    .dataframe tbody tr th:only-of-type {\n",
              "        vertical-align: middle;\n",
              "    }\n",
              "\n",
              "    .dataframe tbody tr th {\n",
              "        vertical-align: top;\n",
              "    }\n",
              "\n",
              "    .dataframe thead th {\n",
              "        text-align: right;\n",
              "    }\n",
              "</style>\n",
              "<table border=\"1\" class=\"dataframe\">\n",
              "  <thead>\n",
              "    <tr style=\"text-align: right;\">\n",
              "      <th></th>\n",
              "      <th>Age</th>\n",
              "      <th>EstimatedSalary</th>\n",
              "      <th>Purchased</th>\n",
              "    </tr>\n",
              "  </thead>\n",
              "  <tbody>\n",
              "    <tr>\n",
              "      <th>0</th>\n",
              "      <td>19</td>\n",
              "      <td>19000</td>\n",
              "      <td>0</td>\n",
              "    </tr>\n",
              "    <tr>\n",
              "      <th>1</th>\n",
              "      <td>35</td>\n",
              "      <td>20000</td>\n",
              "      <td>0</td>\n",
              "    </tr>\n",
              "    <tr>\n",
              "      <th>2</th>\n",
              "      <td>26</td>\n",
              "      <td>43000</td>\n",
              "      <td>0</td>\n",
              "    </tr>\n",
              "    <tr>\n",
              "      <th>3</th>\n",
              "      <td>27</td>\n",
              "      <td>57000</td>\n",
              "      <td>0</td>\n",
              "    </tr>\n",
              "    <tr>\n",
              "      <th>4</th>\n",
              "      <td>19</td>\n",
              "      <td>76000</td>\n",
              "      <td>0</td>\n",
              "    </tr>\n",
              "    <tr>\n",
              "      <th>...</th>\n",
              "      <td>...</td>\n",
              "      <td>...</td>\n",
              "      <td>...</td>\n",
              "    </tr>\n",
              "    <tr>\n",
              "      <th>395</th>\n",
              "      <td>46</td>\n",
              "      <td>41000</td>\n",
              "      <td>1</td>\n",
              "    </tr>\n",
              "    <tr>\n",
              "      <th>396</th>\n",
              "      <td>51</td>\n",
              "      <td>23000</td>\n",
              "      <td>1</td>\n",
              "    </tr>\n",
              "    <tr>\n",
              "      <th>397</th>\n",
              "      <td>50</td>\n",
              "      <td>20000</td>\n",
              "      <td>1</td>\n",
              "    </tr>\n",
              "    <tr>\n",
              "      <th>398</th>\n",
              "      <td>36</td>\n",
              "      <td>33000</td>\n",
              "      <td>0</td>\n",
              "    </tr>\n",
              "    <tr>\n",
              "      <th>399</th>\n",
              "      <td>49</td>\n",
              "      <td>36000</td>\n",
              "      <td>1</td>\n",
              "    </tr>\n",
              "  </tbody>\n",
              "</table>\n",
              "<p>400 rows × 3 columns</p>\n",
              "</div>\n",
              "      <button class=\"colab-df-convert\" onclick=\"convertToInteractive('df-1e33419f-19ba-4dd4-8472-64162e40a548')\"\n",
              "              title=\"Convert this dataframe to an interactive table.\"\n",
              "              style=\"display:none;\">\n",
              "        \n",
              "  <svg xmlns=\"http://www.w3.org/2000/svg\" height=\"24px\"viewBox=\"0 0 24 24\"\n",
              "       width=\"24px\">\n",
              "    <path d=\"M0 0h24v24H0V0z\" fill=\"none\"/>\n",
              "    <path d=\"M18.56 5.44l.94 2.06.94-2.06 2.06-.94-2.06-.94-.94-2.06-.94 2.06-2.06.94zm-11 1L8.5 8.5l.94-2.06 2.06-.94-2.06-.94L8.5 2.5l-.94 2.06-2.06.94zm10 10l.94 2.06.94-2.06 2.06-.94-2.06-.94-.94-2.06-.94 2.06-2.06.94z\"/><path d=\"M17.41 7.96l-1.37-1.37c-.4-.4-.92-.59-1.43-.59-.52 0-1.04.2-1.43.59L10.3 9.45l-7.72 7.72c-.78.78-.78 2.05 0 2.83L4 21.41c.39.39.9.59 1.41.59.51 0 1.02-.2 1.41-.59l7.78-7.78 2.81-2.81c.8-.78.8-2.07 0-2.86zM5.41 20L4 18.59l7.72-7.72 1.47 1.35L5.41 20z\"/>\n",
              "  </svg>\n",
              "      </button>\n",
              "      \n",
              "  <style>\n",
              "    .colab-df-container {\n",
              "      display:flex;\n",
              "      flex-wrap:wrap;\n",
              "      gap: 12px;\n",
              "    }\n",
              "\n",
              "    .colab-df-convert {\n",
              "      background-color: #E8F0FE;\n",
              "      border: none;\n",
              "      border-radius: 50%;\n",
              "      cursor: pointer;\n",
              "      display: none;\n",
              "      fill: #1967D2;\n",
              "      height: 32px;\n",
              "      padding: 0 0 0 0;\n",
              "      width: 32px;\n",
              "    }\n",
              "\n",
              "    .colab-df-convert:hover {\n",
              "      background-color: #E2EBFA;\n",
              "      box-shadow: 0px 1px 2px rgba(60, 64, 67, 0.3), 0px 1px 3px 1px rgba(60, 64, 67, 0.15);\n",
              "      fill: #174EA6;\n",
              "    }\n",
              "\n",
              "    [theme=dark] .colab-df-convert {\n",
              "      background-color: #3B4455;\n",
              "      fill: #D2E3FC;\n",
              "    }\n",
              "\n",
              "    [theme=dark] .colab-df-convert:hover {\n",
              "      background-color: #434B5C;\n",
              "      box-shadow: 0px 1px 3px 1px rgba(0, 0, 0, 0.15);\n",
              "      filter: drop-shadow(0px 1px 2px rgba(0, 0, 0, 0.3));\n",
              "      fill: #FFFFFF;\n",
              "    }\n",
              "  </style>\n",
              "\n",
              "      <script>\n",
              "        const buttonEl =\n",
              "          document.querySelector('#df-1e33419f-19ba-4dd4-8472-64162e40a548 button.colab-df-convert');\n",
              "        buttonEl.style.display =\n",
              "          google.colab.kernel.accessAllowed ? 'block' : 'none';\n",
              "\n",
              "        async function convertToInteractive(key) {\n",
              "          const element = document.querySelector('#df-1e33419f-19ba-4dd4-8472-64162e40a548');\n",
              "          const dataTable =\n",
              "            await google.colab.kernel.invokeFunction('convertToInteractive',\n",
              "                                                     [key], {});\n",
              "          if (!dataTable) return;\n",
              "\n",
              "          const docLinkHtml = 'Like what you see? Visit the ' +\n",
              "            '<a target=\"_blank\" href=https://colab.research.google.com/notebooks/data_table.ipynb>data table notebook</a>'\n",
              "            + ' to learn more about interactive tables.';\n",
              "          element.innerHTML = '';\n",
              "          dataTable['output_type'] = 'display_data';\n",
              "          await google.colab.output.renderOutput(dataTable, element);\n",
              "          const docLink = document.createElement('div');\n",
              "          docLink.innerHTML = docLinkHtml;\n",
              "          element.appendChild(docLink);\n",
              "        }\n",
              "      </script>\n",
              "    </div>\n",
              "  </div>\n",
              "  "
            ]
          },
          "metadata": {},
          "execution_count": 11
        }
      ]
    },
    {
      "cell_type": "markdown",
      "source": [
        "Spliting the dataset into the training set and test set"
      ],
      "metadata": {
        "id": "U0IqdirqCLiK"
      }
    },
    {
      "cell_type": "code",
      "source": [
        "from sklearn.model_selection import train_test_split\n",
        "x_train, x_test, y_train, y_test = train_test_split(x, y, test_size = 0.25, random_state = 0)"
      ],
      "metadata": {
        "id": "xLRBbt-vCFTx"
      },
      "execution_count": 12,
      "outputs": []
    },
    {
      "cell_type": "markdown",
      "source": [
        "Feature Scaling"
      ],
      "metadata": {
        "id": "GueChEbuDlFu"
      }
    },
    {
      "cell_type": "code",
      "source": [
        "from sklearn.preprocessing import StandardScaler\n",
        "sc = StandardScaler()\n",
        "x_train = sc.fit_transform(x_train)\n",
        "x_test = sc.transform(x_test)"
      ],
      "metadata": {
        "id": "CiN0thSRCqm-"
      },
      "execution_count": 13,
      "outputs": []
    },
    {
      "cell_type": "code",
      "source": [
        "x_test"
      ],
      "metadata": {
        "colab": {
          "base_uri": "https://localhost:8080/"
        },
        "id": "y0xhFIFDZLda",
        "outputId": "923d5b19-88ac-4557-f900-e930f86d53e5"
      },
      "execution_count": 14,
      "outputs": [
        {
          "output_type": "execute_result",
          "data": {
            "text/plain": [
              "array([[-0.80480212,  0.50496393],\n",
              "       [-0.01254409, -0.5677824 ],\n",
              "       [-0.30964085,  0.1570462 ],\n",
              "       [-0.80480212,  0.27301877],\n",
              "       [-0.30964085, -0.5677824 ],\n",
              "       [-1.10189888, -1.43757673],\n",
              "       [-0.70576986, -1.58254245],\n",
              "       [-0.21060859,  2.15757314],\n",
              "       [-1.99318916, -0.04590581],\n",
              "       [ 0.8787462 , -0.77073441],\n",
              "       [-0.80480212, -0.59677555],\n",
              "       [-1.00286662, -0.42281668],\n",
              "       [-0.11157634, -0.42281668],\n",
              "       [ 0.08648817,  0.21503249],\n",
              "       [-1.79512465,  0.47597078],\n",
              "       [-0.60673761,  1.37475825],\n",
              "       [-0.11157634,  0.21503249],\n",
              "       [-1.89415691,  0.44697764],\n",
              "       [ 1.67100423,  1.75166912],\n",
              "       [-0.30964085, -1.37959044],\n",
              "       [-0.30964085, -0.65476184],\n",
              "       [ 0.8787462 ,  2.15757314],\n",
              "       [ 0.28455268, -0.53878926],\n",
              "       [ 0.8787462 ,  1.02684052],\n",
              "       [-1.49802789, -1.20563157],\n",
              "       [ 1.07681071,  2.07059371],\n",
              "       [-1.00286662,  0.50496393],\n",
              "       [-0.90383437,  0.30201192],\n",
              "       [-0.11157634, -0.21986468],\n",
              "       [-0.60673761,  0.47597078],\n",
              "       [-1.6960924 ,  0.53395707],\n",
              "       [-0.11157634,  0.27301877],\n",
              "       [ 1.86906873, -0.27785096],\n",
              "       [-0.11157634, -0.48080297],\n",
              "       [-1.39899564, -0.33583725],\n",
              "       [-1.99318916, -0.50979612],\n",
              "       [-1.59706014,  0.33100506],\n",
              "       [-0.4086731 , -0.77073441],\n",
              "       [-0.70576986, -1.03167271],\n",
              "       [ 1.07681071, -0.97368642],\n",
              "       [-1.10189888,  0.53395707],\n",
              "       [ 0.28455268, -0.50979612],\n",
              "       [-1.10189888,  0.41798449],\n",
              "       [-0.30964085, -1.43757673],\n",
              "       [ 0.48261718,  1.22979253],\n",
              "       [-1.10189888, -0.33583725],\n",
              "       [-0.11157634,  0.30201192],\n",
              "       [ 1.37390747,  0.59194336],\n",
              "       [-1.20093113, -1.14764529],\n",
              "       [ 1.07681071,  0.47597078],\n",
              "       [ 1.86906873,  1.51972397],\n",
              "       [-0.4086731 , -1.29261101],\n",
              "       [-0.30964085, -0.3648304 ],\n",
              "       [-0.4086731 ,  1.31677196],\n",
              "       [ 2.06713324,  0.53395707],\n",
              "       [ 0.68068169, -1.089659  ],\n",
              "       [-0.90383437,  0.38899135],\n",
              "       [-1.20093113,  0.30201192],\n",
              "       [ 1.07681071, -1.20563157],\n",
              "       [-1.49802789, -1.43757673],\n",
              "       [-0.60673761, -1.49556302],\n",
              "       [ 2.1661655 , -0.79972756],\n",
              "       [-1.89415691,  0.18603934],\n",
              "       [-0.21060859,  0.85288166],\n",
              "       [-1.89415691, -1.26361786],\n",
              "       [ 2.1661655 ,  0.38899135],\n",
              "       [-1.39899564,  0.56295021],\n",
              "       [-1.10189888, -0.33583725],\n",
              "       [ 0.18552042, -0.65476184],\n",
              "       [ 0.38358493,  0.01208048],\n",
              "       [-0.60673761,  2.331532  ],\n",
              "       [-0.30964085,  0.21503249],\n",
              "       [-1.59706014, -0.19087153],\n",
              "       [ 0.68068169, -1.37959044],\n",
              "       [-1.10189888,  0.56295021],\n",
              "       [-1.99318916,  0.35999821],\n",
              "       [ 0.38358493,  0.27301877],\n",
              "       [ 0.18552042, -0.27785096],\n",
              "       [ 1.47293972, -1.03167271],\n",
              "       [ 0.8787462 ,  1.08482681],\n",
              "       [ 1.96810099,  2.15757314],\n",
              "       [ 2.06713324,  0.38899135],\n",
              "       [-1.39899564, -0.42281668],\n",
              "       [-1.20093113, -1.00267957],\n",
              "       [ 1.96810099, -0.91570013],\n",
              "       [ 0.38358493,  0.30201192],\n",
              "       [ 0.18552042,  0.1570462 ],\n",
              "       [ 2.06713324,  1.75166912],\n",
              "       [ 0.77971394, -0.8287207 ],\n",
              "       [ 0.28455268, -0.27785096],\n",
              "       [ 0.38358493, -0.16187839],\n",
              "       [-0.11157634,  2.21555943],\n",
              "       [-1.49802789, -0.62576869],\n",
              "       [-1.29996338, -1.06066585],\n",
              "       [-1.39899564,  0.41798449],\n",
              "       [-1.10189888,  0.76590222],\n",
              "       [-1.49802789, -0.19087153],\n",
              "       [ 0.97777845, -1.06066585],\n",
              "       [ 0.97777845,  0.59194336],\n",
              "       [ 0.38358493,  0.99784738]])"
            ]
          },
          "metadata": {},
          "execution_count": 14
        }
      ]
    },
    {
      "cell_type": "markdown",
      "source": [
        "Training the Random Forest Classification Model on the Trainig Set"
      ],
      "metadata": {
        "id": "bBIKR4ToElqj"
      }
    },
    {
      "cell_type": "code",
      "source": [
        "from sklearn.ensemble import RandomForestClassifier\n",
        "# classifier= StandardScaler()\n",
        "classifier= RandomForestClassifier(n_estimators = 10, criterion = 'entropy', random_state = 0)\n",
        "classifier.fit(x_train, y_train) "
      ],
      "metadata": {
        "colab": {
          "base_uri": "https://localhost:8080/"
        },
        "id": "cGjEV2EgDzFD",
        "outputId": "e91feebe-c96d-4211-864d-7988f62ef857"
      },
      "execution_count": 15,
      "outputs": [
        {
          "output_type": "execute_result",
          "data": {
            "text/plain": [
              "RandomForestClassifier(criterion='entropy', n_estimators=10, random_state=0)"
            ]
          },
          "metadata": {},
          "execution_count": 15
        }
      ]
    },
    {
      "cell_type": "markdown",
      "source": [
        "Predicting a New Result"
      ],
      "metadata": {
        "id": "GK_ax6QsHipM"
      }
    },
    {
      "cell_type": "code",
      "source": [
        "\n",
        "print(classifier.predict(sc.transform([[30,87000]])))"
      ],
      "metadata": {
        "colab": {
          "base_uri": "https://localhost:8080/"
        },
        "id": "yCDtbHcEHdbz",
        "outputId": "e489f8e4-0f47-411c-a320-4ddffaaa327d"
      },
      "execution_count": 16,
      "outputs": [
        {
          "output_type": "stream",
          "name": "stdout",
          "text": [
            "[0]\n"
          ]
        }
      ]
    },
    {
      "cell_type": "markdown",
      "source": [
        "Making the confusion Matrix"
      ],
      "metadata": {
        "id": "q6FZASeAITTa"
      }
    },
    {
      "cell_type": "code",
      "source": [
        "y_pred = classifier.predict(x_test) \n",
        "print(np.concatenate((y_pred.reshape(len(y_pred),1),y_test.reshape(len(y_test),1)),1))"
      ],
      "metadata": {
        "colab": {
          "base_uri": "https://localhost:8080/"
        },
        "id": "69P_yQvZIHuo",
        "outputId": "51de8984-5404-43ee-9f6a-c37c29bddcbf"
      },
      "execution_count": 17,
      "outputs": [
        {
          "output_type": "stream",
          "name": "stdout",
          "text": [
            "[[0 0]\n",
            " [0 0]\n",
            " [0 0]\n",
            " [0 0]\n",
            " [0 0]\n",
            " [0 0]\n",
            " [0 0]\n",
            " [1 1]\n",
            " [0 0]\n",
            " [1 0]\n",
            " [0 0]\n",
            " [0 0]\n",
            " [0 0]\n",
            " [0 0]\n",
            " [0 0]\n",
            " [1 0]\n",
            " [1 0]\n",
            " [0 0]\n",
            " [1 1]\n",
            " [0 0]\n",
            " [0 0]\n",
            " [1 1]\n",
            " [0 0]\n",
            " [1 1]\n",
            " [0 0]\n",
            " [0 1]\n",
            " [0 0]\n",
            " [0 0]\n",
            " [0 0]\n",
            " [0 0]\n",
            " [0 0]\n",
            " [0 1]\n",
            " [1 1]\n",
            " [0 0]\n",
            " [0 0]\n",
            " [0 0]\n",
            " [0 0]\n",
            " [0 0]\n",
            " [0 0]\n",
            " [1 1]\n",
            " [0 0]\n",
            " [0 0]\n",
            " [0 0]\n",
            " [0 0]\n",
            " [1 1]\n",
            " [0 0]\n",
            " [0 0]\n",
            " [1 1]\n",
            " [0 0]\n",
            " [1 1]\n",
            " [1 1]\n",
            " [0 0]\n",
            " [0 0]\n",
            " [1 0]\n",
            " [1 1]\n",
            " [1 1]\n",
            " [0 0]\n",
            " [0 0]\n",
            " [1 1]\n",
            " [0 0]\n",
            " [0 0]\n",
            " [1 1]\n",
            " [0 0]\n",
            " [1 1]\n",
            " [0 0]\n",
            " [1 1]\n",
            " [0 0]\n",
            " [0 0]\n",
            " [0 0]\n",
            " [0 0]\n",
            " [1 1]\n",
            " [0 0]\n",
            " [0 0]\n",
            " [1 1]\n",
            " [0 0]\n",
            " [0 0]\n",
            " [0 0]\n",
            " [0 0]\n",
            " [1 1]\n",
            " [1 1]\n",
            " [1 1]\n",
            " [1 0]\n",
            " [0 0]\n",
            " [0 0]\n",
            " [1 1]\n",
            " [0 1]\n",
            " [0 0]\n",
            " [1 1]\n",
            " [1 1]\n",
            " [0 0]\n",
            " [0 0]\n",
            " [1 1]\n",
            " [0 0]\n",
            " [0 0]\n",
            " [0 0]\n",
            " [0 1]\n",
            " [0 0]\n",
            " [1 1]\n",
            " [1 1]\n",
            " [1 1]]\n"
          ]
        }
      ]
    },
    {
      "cell_type": "markdown",
      "source": [
        "Visualising Training set Result"
      ],
      "metadata": {
        "id": "vlZPmngwkizp"
      }
    },
    {
      "cell_type": "code",
      "source": [
        "from matplotlib.colors import ListedColormap\n",
        "x_set, y_set = sc.inverse_transform(x_train), y_train\n",
        "x1, x2 =(np.meshgrid(np.arange(start = x_set[:, 0].min()- 10, stop = x_set[:, 0].max() + 10, step = 0.25),\n",
        "                     np.arange(start = x_set[:, 1].min()- 1000, stop = x_set[:, 1].max() + 1000, step = 0.25)))\n",
        "plt.contourf(x1, x2,classifier.predict(sc.transform(np.array([x1.ravel(), x2.ravel()]).T)).reshape(x1.shape),\n",
        "             alpha = 0.75, cmap = ListedColormap(('red', 'green')))\n",
        "plt.xlim(x1.min(), x1.max())\n",
        "plt.ylim(x2.min(), x2.max())\n",
        "for i, j in enumerate(np.unique(y_set)):\n",
        "    plt.scatter(x_set[y_set == j, 0], x_set[y_set == j, 1], c = ListedColormap(('red', 'green'))(i), label = j)\n",
        "plt.title('Random Forest Classification(Training set)')\n",
        "plt.xlabel('Age')\n",
        "plt.ylabel('Estimated Salary')\n",
        "plt.legend()\n",
        "plt.show()"
      ],
      "metadata": {
        "colab": {
          "base_uri": "https://localhost:8080/",
          "height": 350
        },
        "id": "TldNz5ePj0Sw",
        "outputId": "aeb5096f-72d1-477d-a239-8a7049456eb5"
      },
      "execution_count": 28,
      "outputs": [
        {
          "output_type": "stream",
          "name": "stderr",
          "text": [
            "WARNING:matplotlib.axes._axes:*c* argument looks like a single numeric RGB or RGBA sequence, which should be avoided as value-mapping will have precedence in case its length matches with *x* & *y*.  Please use the *color* keyword-argument or provide a 2-D array with a single row if you intend to specify the same RGB or RGBA value for all points.\n",
            "WARNING:matplotlib.axes._axes:*c* argument looks like a single numeric RGB or RGBA sequence, which should be avoided as value-mapping will have precedence in case its length matches with *x* & *y*.  Please use the *color* keyword-argument or provide a 2-D array with a single row if you intend to specify the same RGB or RGBA value for all points.\n"
          ]
        },
        {
          "output_type": "display_data",
          "data": {
            "text/plain": [
              "<Figure size 432x288 with 1 Axes>"
            ],
            "image/png": "[encoded data removed]"
          },
          "metadata": {
            "needs_background": "light"
          }
        }
      ]
    },
    {
      "cell_type": "markdown",
      "source": [
        "Visualising Test set Result"
      ],
      "metadata": {
        "id": "I-js4taMmpjB"
      }
    },
    {
      "cell_type": "code",
      "source": [
        "from matplotlib.colors import ListedColormap\n",
        "x_set, y_set = sc.inverse_transform(x_test), y_test\n",
        "x1, x2 =(np.meshgrid(np.arange(start = x_set[:, 0].min()- 10, stop = x_set[:, 0].max() + 10, step = 0.25),\n",
        "                     np.arange(start = x_set[:, 1].min()- 1000, stop = x_set[:, 1].max() + 1000, step = 0.25)))\n",
        "plt.contourf(x1, x2,classifier.predict(sc.transform(np.array([x1.ravel(), x2.ravel()]).T)).reshape(x1.shape),\n",
        "             alpha = 0.75, cmap = ListedColormap(('red', 'green')))\n",
        "plt.xlim(x1.min(), x1.max())\n",
        "plt.ylim(x2.min(), x2.max())\n",
        "for i, j in enumerate(np.unique(y_set)):\n",
        "    plt.scatter(x_set[y_set == j, 0], x_set[y_set == j, 1], c = ListedColormap(('red', 'green'))(i), label = j)\n",
        "plt.title('Random Forest Classification(Test set)')\n",
        "plt.xlabel('Age')\n",
        "plt.ylabel('Estimated Salary')\n",
        "plt.legend()\n",
        "plt.show()"
      ],
      "metadata": {
        "colab": {
          "base_uri": "https://localhost:8080/",
          "height": 350
        },
        "id": "mnbz_b77kCL7",
        "outputId": "95b78dc5-6f86-4db4-e8e0-1e025dc3e9e3"
      },
      "execution_count": 29,
      "outputs": [
        {
          "output_type": "stream",
          "name": "stderr",
          "text": [
            "WARNING:matplotlib.axes._axes:*c* argument looks like a single numeric RGB or RGBA sequence, which should be avoided as value-mapping will have precedence in case its length matches with *x* & *y*.  Please use the *color* keyword-argument or provide a 2-D array with a single row if you intend to specify the same RGB or RGBA value for all points.\n",
            "WARNING:matplotlib.axes._axes:*c* argument looks like a single numeric RGB or RGBA sequence, which should be avoided as value-mapping will have precedence in case its length matches with *x* & *y*.  Please use the *color* keyword-argument or provide a 2-D array with a single row if you intend to specify the same RGB or RGBA value for all points.\n"
          ]
        },
        {
          "output_type": "display_data",
          "data": {
            "text/plain": [
              "<Figure size 432x288 with 1 Axes>"
            ],
            "image/png": "[encoded data removed]"
          },
          "metadata": {
            "needs_background": "light"
          }
        }
      ]
    },
    {
      "cell_type": "markdown",
      "source": [],
      "metadata": {
        "id": "gGhC9tLlMItM"
      }
    },
    {
      "cell_type": "code",
      "source": [],
      "metadata": {
        "id": "sp3wXItCI5dS"
      },
      "execution_count": 18,
      "outputs": []
    },
    {
      "cell_type": "code",
      "source": [],
      "metadata": {
        "id": "Veru05KgKzuj"
      },
      "execution_count": 18,
      "outputs": []
    }
  ]
}